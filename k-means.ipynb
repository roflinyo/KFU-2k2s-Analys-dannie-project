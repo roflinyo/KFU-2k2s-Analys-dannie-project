{
 "cells": [
  {
   "cell_type": "code",
   "execution_count": 1,
   "metadata": {},
   "outputs": [],
   "source": [
    "from data_treat.get_ready_data import get_data\n",
    "from sklearn.model_selection import train_test_split\n",
    "import pandas as pd\n",
    "from sklearn.metrics import roc_curve, precision_recall_curve, auc # метрики качества\n",
    "from sklearn.metrics import confusion_matrix, accuracy_score # метрики качества\n",
    "from sklearn.metrics import average_precision_score\n",
    "import matplotlib.pyplot as plt\n",
    "from data_treat.data_normalizer import CustomNormalizer\n",
    "from sklearn.neighbors import KNeighborsClassifier\n",
    "from sklearn.metrics import accuracy_score\n",
    "from sklearn.metrics import confusion_matrix\n",
    "from sklearn.model_selection import StratifiedKFold,GridSearchCV\n",
    "from sklearn.metrics import roc_auc_score\n",
    "import numpy as np\n",
    "import matplotlib.pyplot as plt\n",
    "from sklearn.manifold import MDS\n",
    "import seaborn as sns"
   ]
  },
  {
   "cell_type": "code",
   "execution_count": 2,
   "metadata": {},
   "outputs": [],
   "source": [
    "COLUMNS = [\"distance_from_home\",\"distance_from_last_transaction\",\"ratio_to_median_purchase_price\",\n",
    "           \"repeat_retailer\",\"used_chip\",\"used_pin_number\",\"online_order\", \"fraud\"]"
   ]
  },
  {
   "cell_type": "code",
   "execution_count": 3,
   "metadata": {},
   "outputs": [],
   "source": [
    "def summ_func(x):\n",
    "    print(x)\n",
    "    return sum(x)"
   ]
  },
  {
   "cell_type": "code",
   "execution_count": 4,
   "metadata": {},
   "outputs": [
    {
     "data": {
      "text/plain": [
       "0.0    87403\n",
       "1.0    87403\n",
       "Name: fraud, dtype: int64"
      ]
     },
     "execution_count": 4,
     "metadata": {},
     "output_type": "execute_result"
    }
   ],
   "source": [
    "data = get_data()\n",
    "pd.value_counts(data['fraud'])"
   ]
  },
  {
   "cell_type": "code",
   "execution_count": 5,
   "metadata": {},
   "outputs": [
    {
     "data": {
      "text/plain": [
       "array([[2.08433859e+01, 1.44180943e+00, 5.04188009e+00, ...,\n",
       "        1.00000000e+00, 0.00000000e+00, 0.00000000e+00],\n",
       "       [3.49000429e+02, 7.84454106e+00, 6.00786952e-01, ...,\n",
       "        0.00000000e+00, 1.00000000e+00, 0.00000000e+00],\n",
       "       [1.07753109e+02, 6.89880722e-01, 2.36185743e+00, ...,\n",
       "        0.00000000e+00, 1.00000000e+00, 1.00000000e+00],\n",
       "       ...,\n",
       "       [5.19556691e+01, 1.61103719e-01, 7.94039586e+00, ...,\n",
       "        0.00000000e+00, 1.00000000e+00, 1.00000000e+00],\n",
       "       [1.58852557e+02, 4.67397384e+00, 2.12819106e-01, ...,\n",
       "        0.00000000e+00, 1.00000000e+00, 1.00000000e+00],\n",
       "       [2.46634361e+00, 5.55479592e-01, 4.50759955e+00, ...,\n",
       "        0.00000000e+00, 1.00000000e+00, 1.00000000e+00]])"
      ]
     },
     "execution_count": 5,
     "metadata": {},
     "output_type": "execute_result"
    }
   ],
   "source": [
    "data.values"
   ]
  },
  {
   "cell_type": "code",
   "execution_count": 6,
   "metadata": {},
   "outputs": [
    {
     "data": {
      "text/html": [
       "<div>\n",
       "<style scoped>\n",
       "    .dataframe tbody tr th:only-of-type {\n",
       "        vertical-align: middle;\n",
       "    }\n",
       "\n",
       "    .dataframe tbody tr th {\n",
       "        vertical-align: top;\n",
       "    }\n",
       "\n",
       "    .dataframe thead th {\n",
       "        text-align: right;\n",
       "    }\n",
       "</style>\n",
       "<table border=\"1\" class=\"dataframe\">\n",
       "  <thead>\n",
       "    <tr style=\"text-align: right;\">\n",
       "      <th></th>\n",
       "      <th>distance_from_home</th>\n",
       "      <th>distance_from_last_transaction</th>\n",
       "      <th>ratio_to_median_purchase_price</th>\n",
       "      <th>repeat_retailer</th>\n",
       "      <th>used_chip</th>\n",
       "      <th>used_pin_number</th>\n",
       "      <th>online_order</th>\n",
       "      <th>fraud</th>\n",
       "    </tr>\n",
       "  </thead>\n",
       "  <tbody>\n",
       "    <tr>\n",
       "      <th>27283</th>\n",
       "      <td>20.843386</td>\n",
       "      <td>1.441809</td>\n",
       "      <td>5.041880</td>\n",
       "      <td>1.0</td>\n",
       "      <td>1.0</td>\n",
       "      <td>1.0</td>\n",
       "      <td>0.0</td>\n",
       "      <td>0.0</td>\n",
       "    </tr>\n",
       "    <tr>\n",
       "      <th>48312</th>\n",
       "      <td>349.000429</td>\n",
       "      <td>7.844541</td>\n",
       "      <td>0.600787</td>\n",
       "      <td>1.0</td>\n",
       "      <td>1.0</td>\n",
       "      <td>0.0</td>\n",
       "      <td>1.0</td>\n",
       "      <td>0.0</td>\n",
       "    </tr>\n",
       "    <tr>\n",
       "      <th>489745</th>\n",
       "      <td>107.753109</td>\n",
       "      <td>0.689881</td>\n",
       "      <td>2.361857</td>\n",
       "      <td>1.0</td>\n",
       "      <td>0.0</td>\n",
       "      <td>0.0</td>\n",
       "      <td>1.0</td>\n",
       "      <td>1.0</td>\n",
       "    </tr>\n",
       "    <tr>\n",
       "      <th>76053</th>\n",
       "      <td>0.671037</td>\n",
       "      <td>20.939283</td>\n",
       "      <td>4.078705</td>\n",
       "      <td>0.0</td>\n",
       "      <td>1.0</td>\n",
       "      <td>0.0</td>\n",
       "      <td>1.0</td>\n",
       "      <td>1.0</td>\n",
       "    </tr>\n",
       "    <tr>\n",
       "      <th>357734</th>\n",
       "      <td>5.906675</td>\n",
       "      <td>0.178226</td>\n",
       "      <td>10.872932</td>\n",
       "      <td>1.0</td>\n",
       "      <td>1.0</td>\n",
       "      <td>0.0</td>\n",
       "      <td>1.0</td>\n",
       "      <td>1.0</td>\n",
       "    </tr>\n",
       "  </tbody>\n",
       "</table>\n",
       "</div>"
      ],
      "text/plain": [
       "        distance_from_home  distance_from_last_transaction  \\\n",
       "27283            20.843386                        1.441809   \n",
       "48312           349.000429                        7.844541   \n",
       "489745          107.753109                        0.689881   \n",
       "76053             0.671037                       20.939283   \n",
       "357734            5.906675                        0.178226   \n",
       "\n",
       "        ratio_to_median_purchase_price  repeat_retailer  used_chip  \\\n",
       "27283                         5.041880              1.0        1.0   \n",
       "48312                         0.600787              1.0        1.0   \n",
       "489745                        2.361857              1.0        0.0   \n",
       "76053                         4.078705              0.0        1.0   \n",
       "357734                       10.872932              1.0        1.0   \n",
       "\n",
       "        used_pin_number  online_order  fraud  \n",
       "27283               1.0           0.0    0.0  \n",
       "48312               0.0           1.0    0.0  \n",
       "489745              0.0           1.0    1.0  \n",
       "76053               0.0           1.0    1.0  \n",
       "357734              0.0           1.0    1.0  "
      ]
     },
     "execution_count": 6,
     "metadata": {},
     "output_type": "execute_result"
    }
   ],
   "source": [
    "data.head()"
   ]
  },
  {
   "cell_type": "code",
   "execution_count": 7,
   "metadata": {},
   "outputs": [],
   "source": [
    "target_variable_name = 'fraud'\n",
    "labels = data[target_variable_name]\n",
    "data = data.drop(target_variable_name, axis=1)\n"
   ]
  },
  {
   "cell_type": "code",
   "execution_count": 8,
   "metadata": {},
   "outputs": [
    {
     "data": {
      "text/plain": [
       "27283     0.0\n",
       "48312     0.0\n",
       "489745    1.0\n",
       "76053     1.0\n",
       "357734    1.0\n",
       "Name: fraud, dtype: float64"
      ]
     },
     "execution_count": 8,
     "metadata": {},
     "output_type": "execute_result"
    }
   ],
   "source": [
    "labels.head()\n"
   ]
  },
  {
   "cell_type": "code",
   "execution_count": 9,
   "metadata": {},
   "outputs": [
    {
     "data": {
      "text/html": [
       "<div>\n",
       "<style scoped>\n",
       "    .dataframe tbody tr th:only-of-type {\n",
       "        vertical-align: middle;\n",
       "    }\n",
       "\n",
       "    .dataframe tbody tr th {\n",
       "        vertical-align: top;\n",
       "    }\n",
       "\n",
       "    .dataframe thead th {\n",
       "        text-align: right;\n",
       "    }\n",
       "</style>\n",
       "<table border=\"1\" class=\"dataframe\">\n",
       "  <thead>\n",
       "    <tr style=\"text-align: right;\">\n",
       "      <th></th>\n",
       "      <th>distance_from_home</th>\n",
       "      <th>distance_from_last_transaction</th>\n",
       "      <th>ratio_to_median_purchase_price</th>\n",
       "      <th>repeat_retailer</th>\n",
       "      <th>used_chip</th>\n",
       "      <th>used_pin_number</th>\n",
       "      <th>online_order</th>\n",
       "    </tr>\n",
       "  </thead>\n",
       "  <tbody>\n",
       "    <tr>\n",
       "      <th>27283</th>\n",
       "      <td>20.843386</td>\n",
       "      <td>1.441809</td>\n",
       "      <td>5.041880</td>\n",
       "      <td>1.0</td>\n",
       "      <td>1.0</td>\n",
       "      <td>1.0</td>\n",
       "      <td>0.0</td>\n",
       "    </tr>\n",
       "    <tr>\n",
       "      <th>48312</th>\n",
       "      <td>349.000429</td>\n",
       "      <td>7.844541</td>\n",
       "      <td>0.600787</td>\n",
       "      <td>1.0</td>\n",
       "      <td>1.0</td>\n",
       "      <td>0.0</td>\n",
       "      <td>1.0</td>\n",
       "    </tr>\n",
       "    <tr>\n",
       "      <th>489745</th>\n",
       "      <td>107.753109</td>\n",
       "      <td>0.689881</td>\n",
       "      <td>2.361857</td>\n",
       "      <td>1.0</td>\n",
       "      <td>0.0</td>\n",
       "      <td>0.0</td>\n",
       "      <td>1.0</td>\n",
       "    </tr>\n",
       "    <tr>\n",
       "      <th>76053</th>\n",
       "      <td>0.671037</td>\n",
       "      <td>20.939283</td>\n",
       "      <td>4.078705</td>\n",
       "      <td>0.0</td>\n",
       "      <td>1.0</td>\n",
       "      <td>0.0</td>\n",
       "      <td>1.0</td>\n",
       "    </tr>\n",
       "    <tr>\n",
       "      <th>357734</th>\n",
       "      <td>5.906675</td>\n",
       "      <td>0.178226</td>\n",
       "      <td>10.872932</td>\n",
       "      <td>1.0</td>\n",
       "      <td>1.0</td>\n",
       "      <td>0.0</td>\n",
       "      <td>1.0</td>\n",
       "    </tr>\n",
       "  </tbody>\n",
       "</table>\n",
       "</div>"
      ],
      "text/plain": [
       "        distance_from_home  distance_from_last_transaction  \\\n",
       "27283            20.843386                        1.441809   \n",
       "48312           349.000429                        7.844541   \n",
       "489745          107.753109                        0.689881   \n",
       "76053             0.671037                       20.939283   \n",
       "357734            5.906675                        0.178226   \n",
       "\n",
       "        ratio_to_median_purchase_price  repeat_retailer  used_chip  \\\n",
       "27283                         5.041880              1.0        1.0   \n",
       "48312                         0.600787              1.0        1.0   \n",
       "489745                        2.361857              1.0        0.0   \n",
       "76053                         4.078705              0.0        1.0   \n",
       "357734                       10.872932              1.0        1.0   \n",
       "\n",
       "        used_pin_number  online_order  \n",
       "27283               1.0           0.0  \n",
       "48312               0.0           1.0  \n",
       "489745              0.0           1.0  \n",
       "76053               0.0           1.0  \n",
       "357734              0.0           1.0  "
      ]
     },
     "execution_count": 9,
     "metadata": {},
     "output_type": "execute_result"
    }
   ],
   "source": [
    "data.head()"
   ]
  },
  {
   "cell_type": "code",
   "execution_count": 10,
   "metadata": {},
   "outputs": [],
   "source": [
    "x_train, x_test, y_train, y_test = train_test_split(data, labels, test_size=0.33)"
   ]
  },
  {
   "cell_type": "code",
   "execution_count": 13,
   "metadata": {},
   "outputs": [],
   "source": [
    "def model_func(x_train, x_test):\n",
    "    def gridSearch(X,y):\n",
    "\n",
    "        param_dict = {\n",
    "        'n_neighbors': np.arange(1,3,1),\n",
    "        }\n",
    "        model = KNeighborsClassifier()\n",
    "        gv = GridSearchCV(model,param_grid=param_dict)\n",
    "        gv.fit(X,y)\n",
    "        return gv.best_score_,gv.best_params_\n",
    "\n",
    "\n",
    "\n",
    "    params = gridSearch(x_train, y_train)\n",
    "    print(params)\n",
    "\n",
    "    model = KNeighborsClassifier(n_neighbors=params[1]['n_neighbors'])\n",
    "    model.fit(x_train, y_train)\n",
    "    predictions = model.predict(x_test)\n",
    "\n",
    "    print(\"Accuracy : \",accuracy_score(y_test,predictions)*100)\n",
    "    print(confusion_matrix(y_test, predictions))\n",
    "\n",
    "    test_probabilities = model.predict_proba(x_test)\n",
    "    test_probabilities = test_probabilities[:, 1]\n",
    "    false_positive_rates, true_positive_rates, threshold = roc_curve(y_test, test_probabilities)\n",
    "\n",
    "    plt.figure(figsize=(7, 7))\n",
    "\n",
    "    # рисуем кривую\n",
    "    plt.plot(false_positive_rates, true_positive_rates, label='Сглаженные значения ROC-AUC')\n",
    "\n",
    "    # кривая, соответствующая случайному угадыванию\n",
    "    plt.plot([0, 1], [0, 1], color='k', lw=2, linestyle=':', label='Модель, выдающая случайное значение')\n",
    "\n",
    "    plt.title('ROC curve')\n",
    "    plt.xlabel('False Positive Rate')\n",
    "    plt.ylabel('True Positive Rate')\n",
    "\n",
    "    plt.fill_between(false_positive_rates, true_positive_rates, step=\"mid\", alpha=0.4, label='площадь под кривой (ROC-AUC)')\n",
    "    plt.legend()\n",
    "    plt.show()\n",
    "\n",
    "    roc_auc_value = roc_auc_score(y_test, test_probabilities)\n",
    "\n",
    "    print(\"ROC-AUC на тестовой выборке:\", roc_auc_value)\n",
    "\n",
    "\n",
    "    label0 = x_test[predictions==0][::900]\n",
    "    label1 = x_test[predictions==1][::900]\n",
    "    embedding_0 = MDS(n_components=2)\n",
    "    embedding_1 = MDS(n_components=2)\n",
    "    mds_0 = pd.DataFrame(embedding_0.fit_transform(label0),\n",
    "                columns = ['component1','component2'])\n",
    "\n",
    "    mds_1 = pd.DataFrame(embedding_1.fit_transform(label1),\n",
    "                columns = ['component1','component2'])\n",
    "\n",
    "    sns.scatterplot(data=mds_0,x = \"component1\",y=\"component2\",color=\"red\")\n",
    "    sns.scatterplot(data=mds_1,x = \"component1\",y=\"component2\",color=\"blue\")"
   ]
  },
  {
   "cell_type": "markdown",
   "metadata": {},
   "source": [
    "Для сырых данных"
   ]
  },
  {
   "cell_type": "markdown",
   "metadata": {},
   "source": [
    "Для нормализованных данных"
   ]
  },
  {
   "cell_type": "code",
   "execution_count": 14,
   "metadata": {},
   "outputs": [
    {
     "name": "stdout",
     "output_type": "stream",
     "text": [
      "(0.9690829918032786, {'n_neighbors': 1})\n",
      "Accuracy :  97.28703671601428\n",
      "[[27373  1213]\n",
      " [  352 28748]]\n"
     ]
    },
    {
     "data": {
      "image/png": "[encoded data removed]",
      "text/plain": [
       "<Figure size 504x504 with 1 Axes>"
      ]
     },
     "metadata": {
      "needs_background": "light"
     },
     "output_type": "display_data"
    },
    {
     "name": "stdout",
     "output_type": "stream",
     "text": [
      "ROC-AUC на тестовой выборке: 0.972735210540906\n"
     ]
    },
    {
     "data": {
      "image/png": "[encoded data removed]",
      "text/plain": [
       "<Figure size 432x288 with 1 Axes>"
      ]
     },
     "metadata": {
      "needs_background": "light"
     },
     "output_type": "display_data"
    }
   ],
   "source": [
    "model_func(x_train, x_test)"
   ]
  },
  {
   "cell_type": "markdown",
   "metadata": {},
   "source": [
    "Для Нормализованных данных"
   ]
  },
  {
   "cell_type": "code",
   "execution_count": 36,
   "metadata": {},
   "outputs": [
    {
     "name": "stdout",
     "output_type": "stream",
     "text": [
      "(0.9966700819672131, {'n_neighbors': 1})\n",
      "Accuracy :  90.15012308012342\n",
      "[[23422  5477]\n",
      " [  205 28582]]\n"
     ]
    },
    {
     "data": {
      "image/png": "[encoded data removed]",
      "text/plain": [
       "<Figure size 504x504 with 1 Axes>"
      ]
     },
     "metadata": {
      "needs_background": "light"
     },
     "output_type": "display_data"
    },
    {
     "name": "stdout",
     "output_type": "stream",
     "text": [
      "ROC-AUC на тестовой выборке: 0.90167830059445\n"
     ]
    }
   ],
   "source": [
    "model_func(CustomNormalizer.normalize(x_train),CustomNormalizer.normalize(x_test))"
   ]
  },
  {
   "cell_type": "markdown",
   "metadata": {},
   "source": [
    "Для стандартизированных данных\n"
   ]
  },
  {
   "cell_type": "code",
   "execution_count": 37,
   "metadata": {},
   "outputs": [
    {
     "name": "stdout",
     "output_type": "stream",
     "text": [
      "(0.9965761612021857, {'n_neighbors': 1})\n",
      "Accuracy :  99.29098914814686\n",
      "[[28748   151]\n",
      " [  258 28529]]\n"
     ]
    },
    {
     "data": {
      "image/png": "[encoded data removed]",
      "text/plain": [
       "<Figure size 504x504 with 1 Axes>"
      ]
     },
     "metadata": {
      "needs_background": "light"
     },
     "output_type": "display_data"
    },
    {
     "name": "stdout",
     "output_type": "stream",
     "text": [
      "ROC-AUC на тестовой выборке: 0.9929062634272574\n"
     ]
    }
   ],
   "source": [
    "model_func(CustomNormalizer.standardize(x_train),CustomNormalizer.standardize(x_test))"
   ]
  }
 ],
 "metadata": {
  "interpreter": {
   "hash": "a36d92f3dd677437279d03e09b099d7c06c265f407aa929808ef7a5c20718074"
  },
  "kernelspec": {
   "display_name": "Python 3.7.6rc1 64-bit",
   "language": "python",
   "name": "python3"
  },
  "language_info": {
   "codemirror_mode": {
    "name": "ipython",
    "version": 3
   },
   "file_extension": ".py",
   "mimetype": "text/x-python",
   "name": "python",
   "nbconvert_exporter": "python",
   "pygments_lexer": "ipython3",
   "version": "3.7.6rc1"
  },
  "orig_nbformat": 4
 },
 "nbformat": 4,
 "nbformat_minor": 2
}
