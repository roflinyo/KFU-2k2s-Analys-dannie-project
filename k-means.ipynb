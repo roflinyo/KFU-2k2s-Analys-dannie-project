{
 "cells": [
  {
   "cell_type": "code",
   "execution_count": 1,
   "metadata": {},
   "outputs": [],
   "source": [
    "from data_treat.get_ready_data import get_data\n",
    "from sklearn.model_selection import train_test_split\n",
    "import pandas as pd\n",
    "from sklearn.metrics import roc_curve, precision_recall_curve, auc # метрики качества\n",
    "from sklearn.metrics import confusion_matrix, accuracy_score # метрики качества\n",
    "from sklearn.metrics import average_precision_score\n",
    "import matplotlib.pyplot as plt"
   ]
  },
  {
   "cell_type": "code",
   "execution_count": 2,
   "metadata": {},
   "outputs": [
    {
     "name": "stdout",
     "output_type": "stream",
     "text": [
      "      age  job  marital  education  default  housing  loan  contact  month  \\\n",
      "453    36   10        2          6        1        3     1        2      7   \n",
      "261    32   10        2          6        1        3     1        1      4   \n",
      "2819   59    6        2          6        1        1     1        1      2   \n",
      "140    54   10        1          6        1        3     3        1      4   \n",
      "527    41    2        2          3        1        1     1        2      7   \n",
      "...   ...  ...      ...        ...      ...      ...   ...      ...    ...   \n",
      "320    38    2        2          3        1        1     1        1      7   \n",
      "3550   55   12        2          1        1        3     1        1      4   \n",
      "3865   41    1        2          7        1        1     1        1      1   \n",
      "452    33    5        2          7        1        3     1        1      2   \n",
      "451    32    5        3          1        1        1     1        2      7   \n",
      "\n",
      "      day_of_week  ...  campaign  pdays  previous  poutcome  emp.var.rate  \\\n",
      "453             5  ...         4    999         0         2          -1.8   \n",
      "261             3  ...         1    999         0         2           1.4   \n",
      "2819            1  ...         3      3         1         3          -1.7   \n",
      "140             4  ...        14    999         0         2           1.4   \n",
      "527             4  ...         1    999         0         2           1.1   \n",
      "...           ...  ...       ...    ...       ...       ...           ...   \n",
      "320             5  ...         1     11         1         3          -1.8   \n",
      "3550            3  ...         1    999         0         2           1.4   \n",
      "3865            4  ...         1    999         0         2          -1.8   \n",
      "452             5  ...         3    999         0         2           1.4   \n",
      "451             2  ...         7    999         0         2           1.1   \n",
      "\n",
      "      cons.price.idx  cons.conf.idx  euribor3m  nr.employed  y  \n",
      "453           92.893          -46.2      1.270       5099.1  0  \n",
      "261           93.918          -42.7      4.963       5228.1  1  \n",
      "2819          94.027          -38.3      0.905       4991.6  1  \n",
      "140           93.918          -42.7      4.961       5228.1  0  \n",
      "527           93.994          -36.4      4.856       5191.0  0  \n",
      "...              ...            ...        ...          ... ..  \n",
      "320           92.893          -46.2      1.281       5099.1  0  \n",
      "3550          93.918          -42.7      4.962       5228.1  1  \n",
      "3865          93.075          -47.1      1.453       5099.1  1  \n",
      "452           93.444          -36.1      4.964       5228.1  0  \n",
      "451           93.994          -36.4      4.858       5191.0  0  \n",
      "\n",
      "[951 rows x 21 columns]\n"
     ]
    },
    {
     "data": {
      "text/plain": [
       "0    500\n",
       "1    451\n",
       "Name: y, dtype: int64"
      ]
     },
     "execution_count": 2,
     "metadata": {},
     "output_type": "execute_result"
    }
   ],
   "source": [
    "data = get_data()\n",
    "pd.value_counts(data['y'])"
   ]
  },
  {
   "cell_type": "code",
   "execution_count": 3,
   "metadata": {},
   "outputs": [],
   "source": [
    "target_variable_name = 'y'\n",
    "labels = data[target_variable_name]\n",
    "data = data.drop(target_variable_name, axis=1)\n"
   ]
  },
  {
   "cell_type": "code",
   "execution_count": 4,
   "metadata": {},
   "outputs": [
    {
     "data": {
      "text/plain": [
       "453     0\n",
       "261     1\n",
       "2819    1\n",
       "140     0\n",
       "527     0\n",
       "Name: y, dtype: int32"
      ]
     },
     "execution_count": 4,
     "metadata": {},
     "output_type": "execute_result"
    }
   ],
   "source": [
    "labels.head()\n"
   ]
  },
  {
   "cell_type": "code",
   "execution_count": 5,
   "metadata": {},
   "outputs": [],
   "source": [
    "x_train, x_test, y_train, y_test = train_test_split(data, labels, test_size=0.33)"
   ]
  },
  {
   "cell_type": "code",
   "execution_count": 6,
   "metadata": {},
   "outputs": [],
   "source": [
    "x_train = x_train.to_numpy()\n",
    "x_test = x_test.to_numpy()\n",
    "y_train = y_train.to_numpy()\n",
    "y_test = y_test.to_numpy()"
   ]
  },
  {
   "cell_type": "code",
   "execution_count": 20,
   "metadata": {},
   "outputs": [],
   "source": [
    "from sklearn.neighbors import KNeighborsClassifier\n",
    "from sklearn.metrics import accuracy_score\n",
    "from sklearn.metrics import confusion_matrix"
   ]
  },
  {
   "cell_type": "code",
   "execution_count": 22,
   "metadata": {},
   "outputs": [],
   "source": [
    "def KNN_test(k):\n",
    "    model = KNeighborsClassifier(n_neighbors=k)\n",
    "    model.fit(x_train, y_train)\n",
    "    predictions = model.predict(x_test)\n",
    "    return accuracy_score(y_test, predictions)"
   ]
  },
  {
   "cell_type": "code",
   "execution_count": 23,
   "metadata": {},
   "outputs": [],
   "source": [
    "best_acr = 0\n",
    "best_k = 0\n",
    "\n",
    "for k in range(1, 20):\n",
    "    res = KNN_test(k)\n",
    "    if res > best_acr:\n",
    "        best_acr = res\n",
    "        best_k = k"
   ]
  },
  {
   "cell_type": "code",
   "execution_count": 24,
   "metadata": {},
   "outputs": [
    {
     "name": "stdout",
     "output_type": "stream",
     "text": [
      "0.8694267515923567\n",
      "19\n"
     ]
    }
   ],
   "source": [
    "print(best_acr)\n",
    "print(k)"
   ]
  },
  {
   "cell_type": "code",
   "execution_count": 25,
   "metadata": {},
   "outputs": [
    {
     "data": {
      "text/plain": [
       "array([[146,  23],\n",
       "       [ 25, 120]], dtype=int64)"
      ]
     },
     "execution_count": 25,
     "metadata": {},
     "output_type": "execute_result"
    }
   ],
   "source": [
    "confusion_matrix(y_test, predictions)"
   ]
  },
  {
   "cell_type": "code",
   "execution_count": 26,
   "metadata": {},
   "outputs": [],
   "source": [
    "test_probabilities = model.predict_proba(x_test)\n",
    "test_probabilities = test_probabilities[:, 1]"
   ]
  },
  {
   "cell_type": "code",
   "execution_count": 27,
   "metadata": {},
   "outputs": [
    {
     "data": {
      "text/plain": [
       "array([0.33333333, 0.        , 0.        , 1.        , 1.        ,\n",
       "       0.33333333, 1.        , 1.        , 0.66666667, 1.        ,\n",
       "       0.        , 0.        , 0.66666667, 0.        , 0.        ,\n",
       "       0.66666667, 0.33333333, 0.66666667, 0.        , 0.33333333,\n",
       "       0.        , 0.        , 1.        , 0.        , 1.        ,\n",
       "       1.        , 1.        , 0.        , 0.        , 0.        ])"
      ]
     },
     "execution_count": 27,
     "metadata": {},
     "output_type": "execute_result"
    }
   ],
   "source": [
    "test_probabilities[:30]"
   ]
  },
  {
   "cell_type": "code",
   "execution_count": 28,
   "metadata": {},
   "outputs": [],
   "source": [
    "pr_auc_value = average_precision_score(y_test, test_probabilities)"
   ]
  },
  {
   "cell_type": "code",
   "execution_count": 29,
   "metadata": {},
   "outputs": [
    {
     "data": {
      "text/plain": [
       "0.8295702106995733"
      ]
     },
     "execution_count": 29,
     "metadata": {},
     "output_type": "execute_result"
    }
   ],
   "source": [
    "pr_auc_value"
   ]
  },
  {
   "cell_type": "code",
   "execution_count": 30,
   "metadata": {},
   "outputs": [],
   "source": [
    "false_positive_rates, true_positive_rates, threshold = roc_curve(y_test, test_probabilities)"
   ]
  },
  {
   "cell_type": "code",
   "execution_count": 31,
   "metadata": {},
   "outputs": [
    {
     "data": {
      "image/png": "[encoded data removed]",
      "text/plain": [
       "<Figure size 504x504 with 1 Axes>"
      ]
     },
     "metadata": {
      "needs_background": "light"
     },
     "output_type": "display_data"
    }
   ],
   "source": [
    "plt.figure(figsize=(7, 7))\n",
    "\n",
    "# рисуем кривую\n",
    "plt.plot(false_positive_rates, true_positive_rates, label='Сглаженные значения ROC-AUC')\n",
    "\n",
    "# кривая, соответствующая случайному угадыванию\n",
    "plt.plot([0, 1], [0, 1], color='k', lw=2, linestyle=':', label='Модель, выдающая случайное значение')\n",
    "\n",
    "plt.title('ROC curve')\n",
    "plt.xlabel('False Positive Rate')\n",
    "plt.ylabel('True Positive Rate')\n",
    "\n",
    "plt.fill_between(false_positive_rates, true_positive_rates, step=\"mid\", alpha=0.4, label='площадь под кривой (ROC-AUC)')\n",
    "plt.legend()\n",
    "plt.show()"
   ]
  }
 ],
 "metadata": {
  "interpreter": {
   "hash": "a36d92f3dd677437279d03e09b099d7c06c265f407aa929808ef7a5c20718074"
  },
  "kernelspec": {
   "display_name": "Python 3.7.6rc1 64-bit",
   "language": "python",
   "name": "python3"
  },
  "language_info": {
   "codemirror_mode": {
    "name": "ipython",
    "version": 3
   },
   "file_extension": ".py",
   "mimetype": "text/x-python",
   "name": "python",
   "nbconvert_exporter": "python",
   "pygments_lexer": "ipython3",
   "version": "3.7.6"
  },
  "orig_nbformat": 4
 },
 "nbformat": 4,
 "nbformat_minor": 2
}
