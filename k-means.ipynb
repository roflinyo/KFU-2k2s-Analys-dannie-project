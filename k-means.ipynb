{
 "cells": [
  {
   "cell_type": "code",
   "execution_count": 18,
   "metadata": {},
   "outputs": [],
   "source": [
    "from data_treat.get_ready_data import get_data\n",
    "from sklearn.model_selection import train_test_split\n",
    "import pandas as pd\n",
    "from sklearn.metrics import roc_curve, precision_recall_curve, auc # метрики качества\n",
    "from sklearn.metrics import confusion_matrix, accuracy_score # метрики качества\n",
    "from sklearn.metrics import average_precision_score\n",
    "import matplotlib.pyplot as plt\n",
    "from data_treat.data_normalizer import CustomNormalizer\n",
    "from sklearn.neighbors import KNeighborsClassifier\n",
    "from sklearn.metrics import accuracy_score\n",
    "from sklearn.metrics import confusion_matrix\n",
    "from sklearn.model_selection import StratifiedKFold,GridSearchCV\n",
    "from sklearn.metrics import roc_auc_score\n",
    "import numpy as np"
   ]
  },
  {
   "cell_type": "code",
   "execution_count": 19,
   "metadata": {},
   "outputs": [],
   "source": [
    "COLUMNS = [\"distance_from_home\",\"distance_from_last_transaction\",\"ratio_to_median_purchase_price\",\n",
    "           \"repeat_retailer\",\"used_chip\",\"used_pin_number\",\"online_order\", \"fraud\"]"
   ]
  },
  {
   "cell_type": "code",
   "execution_count": 20,
   "metadata": {},
   "outputs": [
    {
     "data": {
      "text/plain": [
       "0.0    87403\n",
       "1.0    87403\n",
       "Name: fraud, dtype: int64"
      ]
     },
     "execution_count": 20,
     "metadata": {},
     "output_type": "execute_result"
    }
   ],
   "source": [
    "data = get_data()\n",
    "pd.value_counts(data['fraud'])"
   ]
  },
  {
   "cell_type": "code",
   "execution_count": 21,
   "metadata": {},
   "outputs": [
    {
     "data": {
      "text/plain": [
       "array([[ 0.58189057,  0.63481628,  2.61856761, ...,  1.        ,\n",
       "         1.        ,  0.        ],\n",
       "       [11.82737126, 11.32580071,  4.90825631, ...,  0.        ,\n",
       "         1.        ,  1.        ],\n",
       "       [91.93273374, 60.61943711, 12.60045712, ...,  0.        ,\n",
       "         1.        ,  1.        ],\n",
       "       ...,\n",
       "       [ 3.28033205,  5.2351786 ,  4.42495785, ...,  0.        ,\n",
       "         1.        ,  1.        ],\n",
       "       [ 6.11657299,  1.44857809,  4.12829049, ...,  0.        ,\n",
       "         1.        ,  1.        ],\n",
       "       [ 5.69811459,  0.11971158,  0.20502942, ...,  0.        ,\n",
       "         0.        ,  0.        ]])"
      ]
     },
     "execution_count": 21,
     "metadata": {},
     "output_type": "execute_result"
    }
   ],
   "source": [
    "data.values"
   ]
  },
  {
   "cell_type": "code",
   "execution_count": 22,
   "metadata": {},
   "outputs": [
    {
     "data": {
      "text/html": [
       "<div>\n",
       "<style scoped>\n",
       "    .dataframe tbody tr th:only-of-type {\n",
       "        vertical-align: middle;\n",
       "    }\n",
       "\n",
       "    .dataframe tbody tr th {\n",
       "        vertical-align: top;\n",
       "    }\n",
       "\n",
       "    .dataframe thead th {\n",
       "        text-align: right;\n",
       "    }\n",
       "</style>\n",
       "<table border=\"1\" class=\"dataframe\">\n",
       "  <thead>\n",
       "    <tr style=\"text-align: right;\">\n",
       "      <th></th>\n",
       "      <th>distance_from_home</th>\n",
       "      <th>distance_from_last_transaction</th>\n",
       "      <th>ratio_to_median_purchase_price</th>\n",
       "      <th>repeat_retailer</th>\n",
       "      <th>used_chip</th>\n",
       "      <th>used_pin_number</th>\n",
       "      <th>online_order</th>\n",
       "      <th>fraud</th>\n",
       "    </tr>\n",
       "  </thead>\n",
       "  <tbody>\n",
       "    <tr>\n",
       "      <th>13798</th>\n",
       "      <td>0.581891</td>\n",
       "      <td>0.634816</td>\n",
       "      <td>2.618568</td>\n",
       "      <td>0.0</td>\n",
       "      <td>1.0</td>\n",
       "      <td>1.0</td>\n",
       "      <td>1.0</td>\n",
       "      <td>0.0</td>\n",
       "    </tr>\n",
       "    <tr>\n",
       "      <th>138060</th>\n",
       "      <td>11.827371</td>\n",
       "      <td>11.325801</td>\n",
       "      <td>4.908256</td>\n",
       "      <td>1.0</td>\n",
       "      <td>1.0</td>\n",
       "      <td>0.0</td>\n",
       "      <td>1.0</td>\n",
       "      <td>1.0</td>\n",
       "    </tr>\n",
       "    <tr>\n",
       "      <th>217704</th>\n",
       "      <td>91.932734</td>\n",
       "      <td>60.619437</td>\n",
       "      <td>12.600457</td>\n",
       "      <td>1.0</td>\n",
       "      <td>0.0</td>\n",
       "      <td>0.0</td>\n",
       "      <td>1.0</td>\n",
       "      <td>1.0</td>\n",
       "    </tr>\n",
       "    <tr>\n",
       "      <th>895394</th>\n",
       "      <td>1.388012</td>\n",
       "      <td>0.136348</td>\n",
       "      <td>9.288531</td>\n",
       "      <td>0.0</td>\n",
       "      <td>0.0</td>\n",
       "      <td>0.0</td>\n",
       "      <td>1.0</td>\n",
       "      <td>1.0</td>\n",
       "    </tr>\n",
       "    <tr>\n",
       "      <th>79748</th>\n",
       "      <td>17.650940</td>\n",
       "      <td>0.250955</td>\n",
       "      <td>1.436782</td>\n",
       "      <td>1.0</td>\n",
       "      <td>0.0</td>\n",
       "      <td>0.0</td>\n",
       "      <td>1.0</td>\n",
       "      <td>0.0</td>\n",
       "    </tr>\n",
       "  </tbody>\n",
       "</table>\n",
       "</div>"
      ],
      "text/plain": [
       "        distance_from_home  distance_from_last_transaction  \\\n",
       "13798             0.581891                        0.634816   \n",
       "138060           11.827371                       11.325801   \n",
       "217704           91.932734                       60.619437   \n",
       "895394            1.388012                        0.136348   \n",
       "79748            17.650940                        0.250955   \n",
       "\n",
       "        ratio_to_median_purchase_price  repeat_retailer  used_chip  \\\n",
       "13798                         2.618568              0.0        1.0   \n",
       "138060                        4.908256              1.0        1.0   \n",
       "217704                       12.600457              1.0        0.0   \n",
       "895394                        9.288531              0.0        0.0   \n",
       "79748                         1.436782              1.0        0.0   \n",
       "\n",
       "        used_pin_number  online_order  fraud  \n",
       "13798               1.0           1.0    0.0  \n",
       "138060              0.0           1.0    1.0  \n",
       "217704              0.0           1.0    1.0  \n",
       "895394              0.0           1.0    1.0  \n",
       "79748               0.0           1.0    0.0  "
      ]
     },
     "execution_count": 22,
     "metadata": {},
     "output_type": "execute_result"
    }
   ],
   "source": [
    "data.head()"
   ]
  },
  {
   "cell_type": "code",
   "execution_count": 23,
   "metadata": {},
   "outputs": [],
   "source": [
    "target_variable_name = 'fraud'\n",
    "labels = data[target_variable_name]\n",
    "data = data.drop(target_variable_name, axis=1)\n"
   ]
  },
  {
   "cell_type": "code",
   "execution_count": 24,
   "metadata": {},
   "outputs": [
    {
     "data": {
      "text/plain": [
       "13798     0.0\n",
       "138060    1.0\n",
       "217704    1.0\n",
       "895394    1.0\n",
       "79748     0.0\n",
       "Name: fraud, dtype: float64"
      ]
     },
     "execution_count": 24,
     "metadata": {},
     "output_type": "execute_result"
    }
   ],
   "source": [
    "labels.head()\n"
   ]
  },
  {
   "cell_type": "code",
   "execution_count": 25,
   "metadata": {},
   "outputs": [
    {
     "data": {
      "text/html": [
       "<div>\n",
       "<style scoped>\n",
       "    .dataframe tbody tr th:only-of-type {\n",
       "        vertical-align: middle;\n",
       "    }\n",
       "\n",
       "    .dataframe tbody tr th {\n",
       "        vertical-align: top;\n",
       "    }\n",
       "\n",
       "    .dataframe thead th {\n",
       "        text-align: right;\n",
       "    }\n",
       "</style>\n",
       "<table border=\"1\" class=\"dataframe\">\n",
       "  <thead>\n",
       "    <tr style=\"text-align: right;\">\n",
       "      <th></th>\n",
       "      <th>distance_from_home</th>\n",
       "      <th>distance_from_last_transaction</th>\n",
       "      <th>ratio_to_median_purchase_price</th>\n",
       "      <th>repeat_retailer</th>\n",
       "      <th>used_chip</th>\n",
       "      <th>used_pin_number</th>\n",
       "      <th>online_order</th>\n",
       "    </tr>\n",
       "  </thead>\n",
       "  <tbody>\n",
       "    <tr>\n",
       "      <th>13798</th>\n",
       "      <td>0.581891</td>\n",
       "      <td>0.634816</td>\n",
       "      <td>2.618568</td>\n",
       "      <td>0.0</td>\n",
       "      <td>1.0</td>\n",
       "      <td>1.0</td>\n",
       "      <td>1.0</td>\n",
       "    </tr>\n",
       "    <tr>\n",
       "      <th>138060</th>\n",
       "      <td>11.827371</td>\n",
       "      <td>11.325801</td>\n",
       "      <td>4.908256</td>\n",
       "      <td>1.0</td>\n",
       "      <td>1.0</td>\n",
       "      <td>0.0</td>\n",
       "      <td>1.0</td>\n",
       "    </tr>\n",
       "    <tr>\n",
       "      <th>217704</th>\n",
       "      <td>91.932734</td>\n",
       "      <td>60.619437</td>\n",
       "      <td>12.600457</td>\n",
       "      <td>1.0</td>\n",
       "      <td>0.0</td>\n",
       "      <td>0.0</td>\n",
       "      <td>1.0</td>\n",
       "    </tr>\n",
       "    <tr>\n",
       "      <th>895394</th>\n",
       "      <td>1.388012</td>\n",
       "      <td>0.136348</td>\n",
       "      <td>9.288531</td>\n",
       "      <td>0.0</td>\n",
       "      <td>0.0</td>\n",
       "      <td>0.0</td>\n",
       "      <td>1.0</td>\n",
       "    </tr>\n",
       "    <tr>\n",
       "      <th>79748</th>\n",
       "      <td>17.650940</td>\n",
       "      <td>0.250955</td>\n",
       "      <td>1.436782</td>\n",
       "      <td>1.0</td>\n",
       "      <td>0.0</td>\n",
       "      <td>0.0</td>\n",
       "      <td>1.0</td>\n",
       "    </tr>\n",
       "  </tbody>\n",
       "</table>\n",
       "</div>"
      ],
      "text/plain": [
       "        distance_from_home  distance_from_last_transaction  \\\n",
       "13798             0.581891                        0.634816   \n",
       "138060           11.827371                       11.325801   \n",
       "217704           91.932734                       60.619437   \n",
       "895394            1.388012                        0.136348   \n",
       "79748            17.650940                        0.250955   \n",
       "\n",
       "        ratio_to_median_purchase_price  repeat_retailer  used_chip  \\\n",
       "13798                         2.618568              0.0        1.0   \n",
       "138060                        4.908256              1.0        1.0   \n",
       "217704                       12.600457              1.0        0.0   \n",
       "895394                        9.288531              0.0        0.0   \n",
       "79748                         1.436782              1.0        0.0   \n",
       "\n",
       "        used_pin_number  online_order  \n",
       "13798               1.0           1.0  \n",
       "138060              0.0           1.0  \n",
       "217704              0.0           1.0  \n",
       "895394              0.0           1.0  \n",
       "79748               0.0           1.0  "
      ]
     },
     "execution_count": 25,
     "metadata": {},
     "output_type": "execute_result"
    }
   ],
   "source": [
    "data.head()"
   ]
  },
  {
   "cell_type": "code",
   "execution_count": 26,
   "metadata": {},
   "outputs": [],
   "source": [
    "x_train, x_test, y_train, y_test = train_test_split(data, labels, test_size=0.33)"
   ]
  },
  {
   "cell_type": "markdown",
   "metadata": {},
   "source": [
    "Для сырых(не стандартизированных, нормализованных данных)"
   ]
  },
  {
   "cell_type": "code",
   "execution_count": 27,
   "metadata": {},
   "outputs": [
    {
     "name": "stdout",
     "output_type": "stream",
     "text": [
      "(0.9699709699453551, {'n_neighbors': 1})\n",
      "[[27563  1336]\n",
      " [  360 28427]]\n"
     ]
    },
    {
     "data": {
      "image/png": "[encoded data removed]",
      "text/plain": [
       "<Figure size 504x504 with 1 Axes>"
      ]
     },
     "metadata": {
      "needs_background": "light"
     },
     "output_type": "display_data"
    },
    {
     "name": "stdout",
     "output_type": "stream",
     "text": [
      "ROC-AUC на тестовой выборке: 0.9706321908676802\n"
     ]
    }
   ],
   "source": [
    "def gridSearch(X,y):\n",
    "\n",
    "    param_dict = {\n",
    "    'n_neighbors': np.arange(1,3,1),\n",
    "    }\n",
    "    model = KNeighborsClassifier()\n",
    "    gv = GridSearchCV(model,param_grid=param_dict)\n",
    "    gv.fit(X,y)\n",
    "    return gv.best_score_,gv.best_params_\n",
    "\n",
    "\n",
    "\n",
    "params = gridSearch(x_train, y_train)\n",
    "print(params)\n",
    "\n",
    "model = KNeighborsClassifier(n_neighbors=params[1]['n_neighbors'])\n",
    "model.fit(x_train, y_train)\n",
    "predictions = model.predict(x_test)\n",
    "\n",
    "print(\"Accuracy : \",accuracy_score(y_test,predictions)*100)\n",
    "print(confusion_matrix(y_test, predictions))\n",
    "\n",
    "test_probabilities = model.predict_proba(x_test)\n",
    "test_probabilities = test_probabilities[:, 1]\n",
    "false_positive_rates, true_positive_rates, threshold = roc_curve(y_test, test_probabilities)\n",
    "\n",
    "plt.figure(figsize=(7, 7))\n",
    "\n",
    "# рисуем кривую\n",
    "plt.plot(false_positive_rates, true_positive_rates, label='Сглаженные значения ROC-AUC')\n",
    "\n",
    "# кривая, соответствующая случайному угадыванию\n",
    "plt.plot([0, 1], [0, 1], color='k', lw=2, linestyle=':', label='Модель, выдающая случайное значение')\n",
    "\n",
    "plt.title('ROC curve')\n",
    "plt.xlabel('False Positive Rate')\n",
    "plt.ylabel('True Positive Rate')\n",
    "\n",
    "plt.fill_between(false_positive_rates, true_positive_rates, step=\"mid\", alpha=0.4, label='площадь под кривой (ROC-AUC)')\n",
    "plt.legend()\n",
    "plt.show()\n",
    "\n",
    "roc_auc_value = roc_auc_score(y_test, test_probabilities)\n",
    "\n",
    "print(\"ROC-AUC на тестовой выборке:\", roc_auc_value)"
   ]
  },
  {
   "cell_type": "markdown",
   "metadata": {},
   "source": [
    "Для нормализованных данных"
   ]
  },
  {
   "cell_type": "code",
   "execution_count": 28,
   "metadata": {},
   "outputs": [
    {
     "name": "stdout",
     "output_type": "stream",
     "text": [
      "(0.9966700819672131, {'n_neighbors': 1})\n",
      "[[23422  5477]\n",
      " [  205 28582]]\n"
     ]
    },
    {
     "data": {
      "image/png": "[encoded data removed]",
      "text/plain": [
       "<Figure size 504x504 with 1 Axes>"
      ]
     },
     "metadata": {
      "needs_background": "light"
     },
     "output_type": "display_data"
    },
    {
     "name": "stdout",
     "output_type": "stream",
     "text": [
      "ROC-AUC на тестовой выборке: 0.90167830059445\n"
     ]
    }
   ],
   "source": [
    "def gridSearch(X,y):\n",
    "\n",
    "    param_dict = {\n",
    "    'n_neighbors': np.arange(1,3,1),\n",
    "    }\n",
    "    model = KNeighborsClassifier()\n",
    "    gv = GridSearchCV(model,param_grid=param_dict)\n",
    "    gv.fit(X,y)\n",
    "    return gv.best_score_,gv.best_params_\n",
    "\n",
    "X_train_n = CustomNormalizer.normalize(x_train)\n",
    "\n",
    "X_test_n = CustomNormalizer.normalize(x_test)\n",
    "\n",
    "params = gridSearch(X_train_n, y_train)\n",
    "print(params)\n",
    "\n",
    "model = KNeighborsClassifier(n_neighbors=params[1]['n_neighbors'])\n",
    "model.fit(X_train_n, y_train)\n",
    "predictions = model.predict(X_test_n)\n",
    "\n",
    "print(\"Accuracy : \",accuracy_score(y_test,predictions)*100)\n",
    "print(confusion_matrix(y_test, predictions))\n",
    "\n",
    "test_probabilities = model.predict_proba(X_test_n)\n",
    "test_probabilities = test_probabilities[:, 1]\n",
    "false_positive_rates, true_positive_rates, threshold = roc_curve(y_test, test_probabilities)\n",
    "\n",
    "plt.figure(figsize=(7, 7))\n",
    "\n",
    "# рисуем кривую\n",
    "plt.plot(false_positive_rates, true_positive_rates, label='Сглаженные значения ROC-AUC')\n",
    "\n",
    "# кривая, соответствующая случайному угадыванию\n",
    "plt.plot([0, 1], [0, 1], color='k', lw=2, linestyle=':', label='Модель, выдающая случайное значение')\n",
    "\n",
    "plt.title('ROC curve')\n",
    "plt.xlabel('False Positive Rate')\n",
    "plt.ylabel('True Positive Rate')\n",
    "\n",
    "plt.fill_between(false_positive_rates, true_positive_rates, step=\"mid\", alpha=0.4, label='площадь под кривой (ROC-AUC)')\n",
    "plt.legend()\n",
    "plt.show()\n",
    "\n",
    "roc_auc_value = roc_auc_score(y_test, test_probabilities)\n",
    "\n",
    "print(\"ROC-AUC на тестовой выборке:\", roc_auc_value)"
   ]
  },
  {
   "cell_type": "markdown",
   "metadata": {},
   "source": [
    "Для стандартизированных данных\n"
   ]
  },
  {
   "cell_type": "code",
   "execution_count": 31,
   "metadata": {},
   "outputs": [
    {
     "name": "stdout",
     "output_type": "stream",
     "text": [
      "(0.9966700819672131, {'n_neighbors': 1})\n",
      "Accuracy :  90.15012308012342\n",
      "[[23422  5477]\n",
      " [  205 28582]]\n"
     ]
    },
    {
     "data": {
      "image/png": "[encoded data removed]",
      "text/plain": [
       "<Figure size 504x504 with 1 Axes>"
      ]
     },
     "metadata": {
      "needs_background": "light"
     },
     "output_type": "display_data"
    },
    {
     "name": "stdout",
     "output_type": "stream",
     "text": [
      "ROC-AUC на тестовой выборке: 0.90167830059445\n"
     ]
    }
   ],
   "source": [
    "def gridSearch(X,y):\n",
    "\n",
    "    param_dict = {\n",
    "    'n_neighbors': np.arange(1,2,1),\n",
    "    }\n",
    "    model = KNeighborsClassifier()\n",
    "    gv = GridSearchCV(model,param_grid=param_dict)\n",
    "    gv.fit(X,y)\n",
    "    return gv.best_score_,gv.best_params_\n",
    "\n",
    "X_train_s = CustomNormalizer.standardize(x_train)\n",
    "\n",
    "X_test_s = CustomNormalizer.standardize(x_test)\n",
    "\n",
    "params = gridSearch(X_train_s, y_train)\n",
    "print(params)\n",
    "\n",
    "model = KNeighborsClassifier(n_neighbors=params[1]['n_neighbors'])\n",
    "model.fit(X_train_s, y_train)\n",
    "predictions = model.predict(X_test_s)\n",
    "\n",
    "print(\"Accuracy : \",accuracy_score(y_test,predictions)*100)\n",
    "print(confusion_matrix(y_test, predictions))\n",
    "\n",
    "test_probabilities = model.predict_proba(X_test_s)\n",
    "test_probabilities = test_probabilities[:, 1]\n",
    "false_positive_rates, true_positive_rates, threshold = roc_curve(y_test, test_probabilities)\n",
    "\n",
    "plt.figure(figsize=(7, 7))\n",
    "\n",
    "# рисуем кривую\n",
    "plt.plot(false_positive_rates, true_positive_rates, label='Сглаженные значения ROC-AUC')\n",
    "\n",
    "# кривая, соответствующая случайному угадыванию\n",
    "plt.plot([0, 1], [0, 1], color='k', lw=2, linestyle=':', label='Модель, выдающая случайное значение')\n",
    "\n",
    "plt.title('ROC curve')\n",
    "plt.xlabel('False Positive Rate')\n",
    "plt.ylabel('True Positive Rate')\n",
    "\n",
    "plt.fill_between(false_positive_rates, true_positive_rates, step=\"mid\", alpha=0.4, label='площадь под кривой (ROC-AUC)')\n",
    "plt.legend()\n",
    "plt.show()\n",
    "\n",
    "roc_auc_value = roc_auc_score(y_test, test_probabilities)\n",
    "\n",
    "print(\"ROC-AUC на тестовой выборке:\", roc_auc_value)"
   ]
  }
 ],
 "metadata": {
  "interpreter": {
   "hash": "a36d92f3dd677437279d03e09b099d7c06c265f407aa929808ef7a5c20718074"
  },
  "kernelspec": {
   "display_name": "Python 3.7.6rc1 64-bit",
   "language": "python",
   "name": "python3"
  },
  "language_info": {
   "codemirror_mode": {
    "name": "ipython",
    "version": 3
   },
   "file_extension": ".py",
   "mimetype": "text/x-python",
   "name": "python",
   "nbconvert_exporter": "python",
   "pygments_lexer": "ipython3",
   "version": "3.7.6rc1"
  },
  "orig_nbformat": 4
 },
 "nbformat": 4,
 "nbformat_minor": 2
}
