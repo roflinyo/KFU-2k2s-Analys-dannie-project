{
 "cells": [
  {
   "cell_type": "code",
   "execution_count": 156,
   "metadata": {
    "collapsed": false,
    "pycharm": {
     "name": "#%%\n"
    }
   },
   "outputs": [],
   "source": [
    "# This Python 3 environment comes with many helpful analytics libraries installed\n",
    "# It is defined by the kaggle/python Docker image: https://github.com/kaggle/docker-python\n",
    "# For example, here's several helpful packages to load\n",
    "\n",
    "import numpy as np # linear algebra\n",
    "import pandas as pd # data processing, CSV file I/O (e.g. pd.read_csv)\n",
    "from sklearn.model_selection import train_test_split\n",
    "from sklearn.preprocessing import StandardScaler\n",
    "from sklearn.tree import DecisionTreeClassifier\n",
    "from sklearn.metrics import classification_report,accuracy_score,confusion_matrix,average_precision_score,roc_curve\n",
    "from sklearn.model_selection import StratifiedKFold,GridSearchCV\n",
    "from data_treat.get_ready_data import get_data\n",
    "from data_treat.data_normalizer import CustomNormalizer\n",
    "import matplotlib.pyplot as plt\n",
    "from sklearn import tree\n",
    "from sklearn.metrics import roc_auc_score\n",
    "\n",
    "# Input data files are available in the read-only \"../input/\" directory\n",
    "# For example, running this (by clicking run or pressing Shift+Enter) will list all files under the input directory\n",
    "\n",
    "# You can write up to 20GB to the current directory (/kaggle/working/) that gets preserved as output when you create a version using \"Save & Run All\"\n",
    "# You can also write temporary files to /kaggle/temp/, but they won't be saved outside of the current session"
   ]
  },
  {
   "cell_type": "code",
   "execution_count": 138,
   "metadata": {},
   "outputs": [],
   "source": [
    "COLUMNS = [\"distance_from_home\",\"distance_from_last_transaction\",\"ratio_to_median_purchase_price\",\n",
    "           \"repeat_retailer\",\"used_chip\",\"used_pin_number\",\"online_order\",\"fraud\"]"
   ]
  },
  {
   "cell_type": "code",
   "execution_count": 145,
   "metadata": {},
   "outputs": [],
   "source": [
    "def feture_importants(importantance):\n",
    "    res = ''\n",
    "    for ind, imp in enumerate(importantance):\n",
    "        res += f\"{COLUMNS[ind]} :  {imp}\\n\"\n",
    "\n",
    "    return res"
   ]
  },
  {
   "cell_type": "code",
   "execution_count": 123,
   "metadata": {
    "collapsed": false,
    "pycharm": {
     "name": "#%%\n"
    }
   },
   "outputs": [],
   "source": [
    "data = get_data()"
   ]
  },
  {
   "cell_type": "code",
   "execution_count": 124,
   "metadata": {
    "collapsed": false,
    "pycharm": {
     "name": "#%%\n"
    }
   },
   "outputs": [
    {
     "data": {
      "text/html": [
       "<div>\n",
       "<style scoped>\n",
       "    .dataframe tbody tr th:only-of-type {\n",
       "        vertical-align: middle;\n",
       "    }\n",
       "\n",
       "    .dataframe tbody tr th {\n",
       "        vertical-align: top;\n",
       "    }\n",
       "\n",
       "    .dataframe thead th {\n",
       "        text-align: right;\n",
       "    }\n",
       "</style>\n",
       "<table border=\"1\" class=\"dataframe\">\n",
       "  <thead>\n",
       "    <tr style=\"text-align: right;\">\n",
       "      <th></th>\n",
       "      <th>distance_from_home</th>\n",
       "      <th>distance_from_last_transaction</th>\n",
       "      <th>ratio_to_median_purchase_price</th>\n",
       "      <th>repeat_retailer</th>\n",
       "      <th>used_chip</th>\n",
       "      <th>used_pin_number</th>\n",
       "      <th>online_order</th>\n",
       "      <th>fraud</th>\n",
       "    </tr>\n",
       "  </thead>\n",
       "  <tbody>\n",
       "    <tr>\n",
       "      <th>302527</th>\n",
       "      <td>323.912847</td>\n",
       "      <td>0.124583</td>\n",
       "      <td>3.619145</td>\n",
       "      <td>1.0</td>\n",
       "      <td>0.0</td>\n",
       "      <td>0.0</td>\n",
       "      <td>1.0</td>\n",
       "      <td>1.0</td>\n",
       "    </tr>\n",
       "    <tr>\n",
       "      <th>91188</th>\n",
       "      <td>31.316131</td>\n",
       "      <td>1.287664</td>\n",
       "      <td>1.430220</td>\n",
       "      <td>1.0</td>\n",
       "      <td>0.0</td>\n",
       "      <td>1.0</td>\n",
       "      <td>1.0</td>\n",
       "      <td>0.0</td>\n",
       "    </tr>\n",
       "    <tr>\n",
       "      <th>72049</th>\n",
       "      <td>38.929655</td>\n",
       "      <td>0.028095</td>\n",
       "      <td>0.090335</td>\n",
       "      <td>1.0</td>\n",
       "      <td>1.0</td>\n",
       "      <td>0.0</td>\n",
       "      <td>0.0</td>\n",
       "      <td>0.0</td>\n",
       "    </tr>\n",
       "    <tr>\n",
       "      <th>49381</th>\n",
       "      <td>61.792623</td>\n",
       "      <td>0.109078</td>\n",
       "      <td>0.835203</td>\n",
       "      <td>1.0</td>\n",
       "      <td>1.0</td>\n",
       "      <td>0.0</td>\n",
       "      <td>1.0</td>\n",
       "      <td>0.0</td>\n",
       "    </tr>\n",
       "    <tr>\n",
       "      <th>882418</th>\n",
       "      <td>13.408338</td>\n",
       "      <td>2.118004</td>\n",
       "      <td>4.484699</td>\n",
       "      <td>1.0</td>\n",
       "      <td>0.0</td>\n",
       "      <td>0.0</td>\n",
       "      <td>1.0</td>\n",
       "      <td>1.0</td>\n",
       "    </tr>\n",
       "  </tbody>\n",
       "</table>\n",
       "</div>"
      ],
      "text/plain": [
       "        distance_from_home  distance_from_last_transaction  \\\n",
       "302527          323.912847                        0.124583   \n",
       "91188            31.316131                        1.287664   \n",
       "72049            38.929655                        0.028095   \n",
       "49381            61.792623                        0.109078   \n",
       "882418           13.408338                        2.118004   \n",
       "\n",
       "        ratio_to_median_purchase_price  repeat_retailer  used_chip  \\\n",
       "302527                        3.619145              1.0        0.0   \n",
       "91188                         1.430220              1.0        0.0   \n",
       "72049                         0.090335              1.0        1.0   \n",
       "49381                         0.835203              1.0        1.0   \n",
       "882418                        4.484699              1.0        0.0   \n",
       "\n",
       "        used_pin_number  online_order  fraud  \n",
       "302527              0.0           1.0    1.0  \n",
       "91188               1.0           1.0    0.0  \n",
       "72049               0.0           0.0    0.0  \n",
       "49381               0.0           1.0    0.0  \n",
       "882418              0.0           1.0    1.0  "
      ]
     },
     "execution_count": 124,
     "metadata": {},
     "output_type": "execute_result"
    }
   ],
   "source": [
    "data.head()"
   ]
  },
  {
   "cell_type": "code",
   "execution_count": 125,
   "metadata": {
    "collapsed": false,
    "pycharm": {
     "name": "#%%\n"
    }
   },
   "outputs": [
    {
     "data": {
      "text/html": [
       "<div>\n",
       "<style scoped>\n",
       "    .dataframe tbody tr th:only-of-type {\n",
       "        vertical-align: middle;\n",
       "    }\n",
       "\n",
       "    .dataframe tbody tr th {\n",
       "        vertical-align: top;\n",
       "    }\n",
       "\n",
       "    .dataframe thead th {\n",
       "        text-align: right;\n",
       "    }\n",
       "</style>\n",
       "<table border=\"1\" class=\"dataframe\">\n",
       "  <thead>\n",
       "    <tr style=\"text-align: right;\">\n",
       "      <th></th>\n",
       "      <th>distance_from_home</th>\n",
       "      <th>distance_from_last_transaction</th>\n",
       "      <th>ratio_to_median_purchase_price</th>\n",
       "      <th>repeat_retailer</th>\n",
       "      <th>used_chip</th>\n",
       "      <th>used_pin_number</th>\n",
       "      <th>online_order</th>\n",
       "      <th>fraud</th>\n",
       "    </tr>\n",
       "  </thead>\n",
       "  <tbody>\n",
       "    <tr>\n",
       "      <th>count</th>\n",
       "      <td>174806.000000</td>\n",
       "      <td>174806.000000</td>\n",
       "      <td>174806.000000</td>\n",
       "      <td>174806.000000</td>\n",
       "      <td>174806.000000</td>\n",
       "      <td>174806.000000</td>\n",
       "      <td>174806.000000</td>\n",
       "      <td>174806.000000</td>\n",
       "    </tr>\n",
       "    <tr>\n",
       "      <th>mean</th>\n",
       "      <td>44.596086</td>\n",
       "      <td>8.502264</td>\n",
       "      <td>3.713906</td>\n",
       "      <td>0.881383</td>\n",
       "      <td>0.308216</td>\n",
       "      <td>0.057916</td>\n",
       "      <td>0.784327</td>\n",
       "      <td>0.500000</td>\n",
       "    </tr>\n",
       "    <tr>\n",
       "      <th>std</th>\n",
       "      <td>104.753108</td>\n",
       "      <td>36.772105</td>\n",
       "      <td>4.755045</td>\n",
       "      <td>0.323338</td>\n",
       "      <td>0.461758</td>\n",
       "      <td>0.233585</td>\n",
       "      <td>0.411290</td>\n",
       "      <td>0.500001</td>\n",
       "    </tr>\n",
       "    <tr>\n",
       "      <th>min</th>\n",
       "      <td>0.021322</td>\n",
       "      <td>0.000407</td>\n",
       "      <td>0.011373</td>\n",
       "      <td>0.000000</td>\n",
       "      <td>0.000000</td>\n",
       "      <td>0.000000</td>\n",
       "      <td>0.000000</td>\n",
       "      <td>0.000000</td>\n",
       "    </tr>\n",
       "    <tr>\n",
       "      <th>25%</th>\n",
       "      <td>4.137164</td>\n",
       "      <td>0.309630</td>\n",
       "      <td>0.690949</td>\n",
       "      <td>1.000000</td>\n",
       "      <td>0.000000</td>\n",
       "      <td>0.000000</td>\n",
       "      <td>1.000000</td>\n",
       "      <td>0.000000</td>\n",
       "    </tr>\n",
       "    <tr>\n",
       "      <th>50%</th>\n",
       "      <td>11.754798</td>\n",
       "      <td>1.063041</td>\n",
       "      <td>2.006738</td>\n",
       "      <td>1.000000</td>\n",
       "      <td>0.000000</td>\n",
       "      <td>0.000000</td>\n",
       "      <td>1.000000</td>\n",
       "      <td>0.500000</td>\n",
       "    </tr>\n",
       "    <tr>\n",
       "      <th>75%</th>\n",
       "      <td>37.594545</td>\n",
       "      <td>3.811184</td>\n",
       "      <td>5.236790</td>\n",
       "      <td>1.000000</td>\n",
       "      <td>1.000000</td>\n",
       "      <td>0.000000</td>\n",
       "      <td>1.000000</td>\n",
       "      <td>1.000000</td>\n",
       "    </tr>\n",
       "    <tr>\n",
       "      <th>max</th>\n",
       "      <td>10632.723672</td>\n",
       "      <td>2160.499922</td>\n",
       "      <td>266.689692</td>\n",
       "      <td>1.000000</td>\n",
       "      <td>1.000000</td>\n",
       "      <td>1.000000</td>\n",
       "      <td>1.000000</td>\n",
       "      <td>1.000000</td>\n",
       "    </tr>\n",
       "  </tbody>\n",
       "</table>\n",
       "</div>"
      ],
      "text/plain": [
       "       distance_from_home  distance_from_last_transaction  \\\n",
       "count       174806.000000                   174806.000000   \n",
       "mean            44.596086                        8.502264   \n",
       "std            104.753108                       36.772105   \n",
       "min              0.021322                        0.000407   \n",
       "25%              4.137164                        0.309630   \n",
       "50%             11.754798                        1.063041   \n",
       "75%             37.594545                        3.811184   \n",
       "max          10632.723672                     2160.499922   \n",
       "\n",
       "       ratio_to_median_purchase_price  repeat_retailer      used_chip  \\\n",
       "count                   174806.000000    174806.000000  174806.000000   \n",
       "mean                         3.713906         0.881383       0.308216   \n",
       "std                          4.755045         0.323338       0.461758   \n",
       "min                          0.011373         0.000000       0.000000   \n",
       "25%                          0.690949         1.000000       0.000000   \n",
       "50%                          2.006738         1.000000       0.000000   \n",
       "75%                          5.236790         1.000000       1.000000   \n",
       "max                        266.689692         1.000000       1.000000   \n",
       "\n",
       "       used_pin_number   online_order          fraud  \n",
       "count    174806.000000  174806.000000  174806.000000  \n",
       "mean          0.057916       0.784327       0.500000  \n",
       "std           0.233585       0.411290       0.500001  \n",
       "min           0.000000       0.000000       0.000000  \n",
       "25%           0.000000       1.000000       0.000000  \n",
       "50%           0.000000       1.000000       0.500000  \n",
       "75%           0.000000       1.000000       1.000000  \n",
       "max           1.000000       1.000000       1.000000  "
      ]
     },
     "execution_count": 125,
     "metadata": {},
     "output_type": "execute_result"
    }
   ],
   "source": [
    "data.describe()"
   ]
  },
  {
   "cell_type": "markdown",
   "metadata": {
    "collapsed": false
   },
   "source": [
    "Based from the describe above, we can see that we need to normalize the data"
   ]
  },
  {
   "cell_type": "code",
   "execution_count": 126,
   "metadata": {
    "collapsed": false,
    "pycharm": {
     "name": "#%%\n"
    }
   },
   "outputs": [
    {
     "data": {
      "text/plain": [
       "distance_from_home                float64\n",
       "distance_from_last_transaction    float64\n",
       "ratio_to_median_purchase_price    float64\n",
       "repeat_retailer                   float64\n",
       "used_chip                         float64\n",
       "used_pin_number                   float64\n",
       "online_order                      float64\n",
       "fraud                             float64\n",
       "dtype: object"
      ]
     },
     "execution_count": 126,
     "metadata": {},
     "output_type": "execute_result"
    }
   ],
   "source": [
    "data.dtypes"
   ]
  },
  {
   "cell_type": "markdown",
   "metadata": {
    "collapsed": false
   },
   "source": [
    "We can see from above that the data is all in int/float format. Now we check if there are any null value"
   ]
  },
  {
   "cell_type": "code",
   "execution_count": 127,
   "metadata": {
    "collapsed": false,
    "pycharm": {
     "name": "#%%\n"
    }
   },
   "outputs": [
    {
     "data": {
      "text/plain": [
       "distance_from_home                0\n",
       "distance_from_last_transaction    0\n",
       "ratio_to_median_purchase_price    0\n",
       "repeat_retailer                   0\n",
       "used_chip                         0\n",
       "used_pin_number                   0\n",
       "online_order                      0\n",
       "fraud                             0\n",
       "dtype: int64"
      ]
     },
     "execution_count": 127,
     "metadata": {},
     "output_type": "execute_result"
    }
   ],
   "source": [
    "data.isnull().sum()"
   ]
  },
  {
   "cell_type": "code",
   "execution_count": 128,
   "metadata": {
    "collapsed": false,
    "pycharm": {
     "name": "#%%\n"
    }
   },
   "outputs": [
    {
     "data": {
      "text/plain": [
       "<AxesSubplot:ylabel='Frequency'>"
      ]
     },
     "execution_count": 128,
     "metadata": {},
     "output_type": "execute_result"
    },
    {
     "data": {
      "image/png": "[encoded data removed]",
      "text/plain": [
       "<Figure size 432x288 with 1 Axes>"
      ]
     },
     "metadata": {
      "needs_background": "light"
     },
     "output_type": "display_data"
    }
   ],
   "source": [
    "data['fraud'].plot(kind='hist')"
   ]
  },
  {
   "cell_type": "code",
   "execution_count": 129,
   "metadata": {
    "collapsed": false,
    "pycharm": {
     "name": "#%%\n"
    }
   },
   "outputs": [],
   "source": [
    "#X = data.iloc[:,:-1]\n",
    "#y = data.iloc[:,-1]"
   ]
  },
  {
   "cell_type": "code",
   "execution_count": 130,
   "metadata": {},
   "outputs": [
    {
     "data": {
      "text/html": [
       "<div>\n",
       "<style scoped>\n",
       "    .dataframe tbody tr th:only-of-type {\n",
       "        vertical-align: middle;\n",
       "    }\n",
       "\n",
       "    .dataframe tbody tr th {\n",
       "        vertical-align: top;\n",
       "    }\n",
       "\n",
       "    .dataframe thead th {\n",
       "        text-align: right;\n",
       "    }\n",
       "</style>\n",
       "<table border=\"1\" class=\"dataframe\">\n",
       "  <thead>\n",
       "    <tr style=\"text-align: right;\">\n",
       "      <th></th>\n",
       "      <th>distance_from_home</th>\n",
       "      <th>distance_from_last_transaction</th>\n",
       "      <th>ratio_to_median_purchase_price</th>\n",
       "      <th>repeat_retailer</th>\n",
       "      <th>used_chip</th>\n",
       "      <th>used_pin_number</th>\n",
       "      <th>online_order</th>\n",
       "    </tr>\n",
       "  </thead>\n",
       "  <tbody>\n",
       "    <tr>\n",
       "      <th>25108</th>\n",
       "      <td>24.324026</td>\n",
       "      <td>1.941513</td>\n",
       "      <td>0.092367</td>\n",
       "      <td>1.0</td>\n",
       "      <td>1.0</td>\n",
       "      <td>0.0</td>\n",
       "      <td>1.0</td>\n",
       "    </tr>\n",
       "    <tr>\n",
       "      <th>23497</th>\n",
       "      <td>35.339695</td>\n",
       "      <td>0.649863</td>\n",
       "      <td>0.491519</td>\n",
       "      <td>1.0</td>\n",
       "      <td>0.0</td>\n",
       "      <td>0.0</td>\n",
       "      <td>1.0</td>\n",
       "    </tr>\n",
       "    <tr>\n",
       "      <th>484340</th>\n",
       "      <td>33.144255</td>\n",
       "      <td>1.829466</td>\n",
       "      <td>5.957943</td>\n",
       "      <td>1.0</td>\n",
       "      <td>1.0</td>\n",
       "      <td>0.0</td>\n",
       "      <td>1.0</td>\n",
       "    </tr>\n",
       "    <tr>\n",
       "      <th>23032</th>\n",
       "      <td>15.539678</td>\n",
       "      <td>0.055214</td>\n",
       "      <td>0.189555</td>\n",
       "      <td>1.0</td>\n",
       "      <td>0.0</td>\n",
       "      <td>0.0</td>\n",
       "      <td>1.0</td>\n",
       "    </tr>\n",
       "    <tr>\n",
       "      <th>63258</th>\n",
       "      <td>1.307463</td>\n",
       "      <td>0.089430</td>\n",
       "      <td>0.585809</td>\n",
       "      <td>0.0</td>\n",
       "      <td>0.0</td>\n",
       "      <td>0.0</td>\n",
       "      <td>1.0</td>\n",
       "    </tr>\n",
       "  </tbody>\n",
       "</table>\n",
       "</div>"
      ],
      "text/plain": [
       "        distance_from_home  distance_from_last_transaction  \\\n",
       "25108            24.324026                        1.941513   \n",
       "23497            35.339695                        0.649863   \n",
       "484340           33.144255                        1.829466   \n",
       "23032            15.539678                        0.055214   \n",
       "63258             1.307463                        0.089430   \n",
       "\n",
       "        ratio_to_median_purchase_price  repeat_retailer  used_chip  \\\n",
       "25108                         0.092367              1.0        1.0   \n",
       "23497                         0.491519              1.0        0.0   \n",
       "484340                        5.957943              1.0        1.0   \n",
       "23032                         0.189555              1.0        0.0   \n",
       "63258                         0.585809              0.0        0.0   \n",
       "\n",
       "        used_pin_number  online_order  \n",
       "25108               0.0           1.0  \n",
       "23497               0.0           1.0  \n",
       "484340              0.0           1.0  \n",
       "23032               0.0           1.0  \n",
       "63258               0.0           1.0  "
      ]
     },
     "execution_count": 130,
     "metadata": {},
     "output_type": "execute_result"
    }
   ],
   "source": [
    "X.head()"
   ]
  },
  {
   "cell_type": "code",
   "execution_count": 131,
   "metadata": {},
   "outputs": [],
   "source": [
    "target_variable_name = 'fraud'\n",
    "labels = data[target_variable_name]\n",
    "data = data.drop(target_variable_name, axis=1)"
   ]
  },
  {
   "cell_type": "code",
   "execution_count": 151,
   "metadata": {
    "collapsed": false,
    "pycharm": {
     "name": "#%%\n"
    }
   },
   "outputs": [],
   "source": [
    "x_train, x_test, y_train, y_test = train_test_split(data, labels, test_size=.20,random_state=42)"
   ]
  },
  {
   "cell_type": "code",
   "execution_count": 157,
   "metadata": {},
   "outputs": [],
   "source": [
    "#Создаём функцию для подбора лучших параметров модели\n",
    "def model_func(x_train, x_test):\n",
    "    def gridSearch(X,y):\n",
    "\n",
    "        param_dict = {\n",
    "        \"criterion\": ['gini', 'entropy'],\n",
    "        \"max_depth\" : np.arange(1,10,2),\n",
    "        \"splitter\": ['best', 'random'],\n",
    "        }\n",
    "        model = DecisionTreeClassifier(random_state=42)\n",
    "        gv = GridSearchCV(model,param_grid=param_dict,cv=10)\n",
    "        gv.fit(X,y)\n",
    "        return gv.best_score_,gv.best_params_\n",
    "\n",
    "\n",
    "    #Ищем лучшие параметры\n",
    "    params = gridSearch(x_train,y_train)\n",
    "    print(params)\n",
    "\n",
    "    #Строим саму модель\n",
    "    model = DecisionTreeClassifier(random_state=42,\n",
    "                                criterion = params[1][\"criterion\"],\n",
    "                                max_depth =  params[1][\"max_depth\"],\n",
    "                                splitter =  params[1][\"splitter\"])\n",
    "\n",
    "    #Обучаем\n",
    "    model.fit(x_train,y_train)\n",
    "    prediction = model.predict(x_test)\n",
    "\n",
    "    #Выводим оценку точности\n",
    "    print (\"Accuracy : \",accuracy_score(y_test,prediction)*100)\n",
    "    print(classification_report(y_test, prediction))\n",
    "\n",
    "    #Выводим матрицу ошибок\n",
    "    print(confusion_matrix(y_test, prediction))\n",
    "\n",
    "    #Получаем уверенность модели для всех предсказаний    \n",
    "    test_probabilities = model.predict_proba(x_test)\n",
    "    test_probabilities = test_probabilities[:, 1]\n",
    "    false_positive_rates, true_positive_rates, threshold = roc_curve(y_test, test_probabilities)\n",
    "\n",
    "    #строим ROC-AUC кривую\n",
    "    plt.figure(figsize=(7, 7))\n",
    "\n",
    "    # рисуем кривую\n",
    "    plt.plot(false_positive_rates, true_positive_rates, label='Сглаженные значения ROC-AUC')\n",
    "\n",
    "    # кривая, соответствующая случайному угадыванию\n",
    "    plt.plot([0, 1], [0, 1], color='k', lw=2, linestyle=':', label='Модель, выдающая случайное значение')\n",
    "\n",
    "    plt.title('ROC curve')\n",
    "    plt.xlabel('False Positive Rate')\n",
    "    plt.ylabel('True Positive Rate')\n",
    "\n",
    "    plt.fill_between(false_positive_rates, true_positive_rates, step=\"mid\", alpha=0.4, label='площадь под кривой (ROC-AUC)')\n",
    "    plt.legend()\n",
    "    plt.show()\n",
    "\n",
    "    #Получаем значениие площади под кривой для тестовой выборки\n",
    "    roc_auc_value = roc_auc_score(y_test, test_probabilities)\n",
    "\n",
    "    print(\"ROC-AUC на тестовой выборке:\", roc_auc_value)\n",
    "\n",
    "\n",
    "    print(feture_importants(model.feature_importances_))\n",
    "\n",
    "    tree.plot_tree(model,feature_names=COLUMNS,class_names=True)"
   ]
  },
  {
   "cell_type": "markdown",
   "metadata": {},
   "source": [
    "Для сырых данных"
   ]
  },
  {
   "cell_type": "code",
   "execution_count": 158,
   "metadata": {},
   "outputs": [
    {
     "name": "stdout",
     "output_type": "stream",
     "text": [
      "(0.9999213417407832, {'criterion': 'entropy', 'max_depth': 7, 'splitter': 'best'})\n",
      "Accuracy :  99.98569875865225\n",
      "              precision    recall  f1-score   support\n",
      "\n",
      "         0.0       1.00      1.00      1.00     17404\n",
      "         1.0       1.00      1.00      1.00     17558\n",
      "\n",
      "    accuracy                           1.00     34962\n",
      "   macro avg       1.00      1.00      1.00     34962\n",
      "weighted avg       1.00      1.00      1.00     34962\n",
      "\n",
      "[[17400     4]\n",
      " [    1 17557]]\n"
     ]
    },
    {
     "data": {
      "image/png": "[encoded data removed]",
      "text/plain": [
       "<Figure size 504x504 with 1 Axes>"
      ]
     },
     "metadata": {
      "needs_background": "light"
     },
     "output_type": "display_data"
    },
    {
     "name": "stdout",
     "output_type": "stream",
     "text": [
      "ROC-AUC на тестовой выборке: 0.9998566068412615\n",
      "distance_from_home :  0.2556736346227201\n",
      "distance_from_last_transaction :  0.16374668528258154\n",
      "ratio_to_median_purchase_price :  0.4289958373416976\n",
      "repeat_retailer :  0.0029934697631149045\n",
      "used_chip :  0.03047251715157873\n",
      "used_pin_number :  0.039057094003859816\n",
      "online_order :  0.07906076183444742\n",
      "\n"
     ]
    },
    {
     "data": {
      "image/png": "[encoded data removed]",
      "text/plain": [
       "<Figure size 432x288 with 1 Axes>"
      ]
     },
     "metadata": {
      "needs_background": "light"
     },
     "output_type": "display_data"
    }
   ],
   "source": [
    "model_func(x_train, x_test)"
   ]
  },
  {
   "cell_type": "markdown",
   "metadata": {},
   "source": [
    "Для нормализированных данных"
   ]
  },
  {
   "cell_type": "code",
   "execution_count": 159,
   "metadata": {},
   "outputs": [
    {
     "name": "stdout",
     "output_type": "stream",
     "text": [
      "(0.9999284927705314, {'criterion': 'entropy', 'max_depth': 7, 'splitter': 'best'})\n",
      "Accuracy :  92.45466506492764\n",
      "              precision    recall  f1-score   support\n",
      "\n",
      "         0.0       0.98      0.87      0.92     17404\n",
      "         1.0       0.88      0.98      0.93     17558\n",
      "\n",
      "    accuracy                           0.92     34962\n",
      "   macro avg       0.93      0.92      0.92     34962\n",
      "weighted avg       0.93      0.92      0.92     34962\n",
      "\n",
      "[[15109  2295]\n",
      " [  343 17215]]\n"
     ]
    },
    {
     "data": {
      "image/png": "[encoded data removed]",
      "text/plain": [
       "<Figure size 504x504 with 1 Axes>"
      ]
     },
     "metadata": {
      "needs_background": "light"
     },
     "output_type": "display_data"
    },
    {
     "name": "stdout",
     "output_type": "stream",
     "text": [
      "ROC-AUC на тестовой выборке: 0.9242992538843386\n",
      "distance_from_home :  0.2556736346227201\n",
      "distance_from_last_transaction :  0.16374668528258154\n",
      "ratio_to_median_purchase_price :  0.4289958373416976\n",
      "repeat_retailer :  0.0029934697631149045\n",
      "used_chip :  0.03047251715157873\n",
      "used_pin_number :  0.039057094003859816\n",
      "online_order :  0.07906076183444742\n",
      "\n"
     ]
    },
    {
     "data": {
      "image/png": "[encoded data removed]",
      "text/plain": [
       "<Figure size 432x288 with 1 Axes>"
      ]
     },
     "metadata": {
      "needs_background": "light"
     },
     "output_type": "display_data"
    }
   ],
   "source": [
    "model_func(CustomNormalizer.normalize(x_train), CustomNormalizer.normalize(x_test))"
   ]
  },
  {
   "cell_type": "markdown",
   "metadata": {},
   "source": [
    "Для Стандартизированных данных"
   ]
  },
  {
   "cell_type": "code",
   "execution_count": 160,
   "metadata": {},
   "outputs": [
    {
     "name": "stdout",
     "output_type": "stream",
     "text": [
      "(0.9999213417407832, {'criterion': 'entropy', 'max_depth': 7, 'splitter': 'best'})\n",
      "Accuracy :  99.52519878725474\n",
      "              precision    recall  f1-score   support\n",
      "\n",
      "         0.0       0.99      1.00      1.00     17404\n",
      "         1.0       1.00      0.99      1.00     17558\n",
      "\n",
      "    accuracy                           1.00     34962\n",
      "   macro avg       1.00      1.00      1.00     34962\n",
      "weighted avg       1.00      1.00      1.00     34962\n",
      "\n",
      "[[17367    37]\n",
      " [  129 17429]]\n"
     ]
    },
    {
     "data": {
      "image/png": "[encoded data removed]",
      "text/plain": [
       "<Figure size 504x504 with 1 Axes>"
      ]
     },
     "metadata": {
      "needs_background": "light"
     },
     "output_type": "display_data"
    },
    {
     "name": "stdout",
     "output_type": "stream",
     "text": [
      "ROC-AUC на тестовой выборке: 0.9952634868435778\n",
      "distance_from_home :  0.2556736346227201\n",
      "distance_from_last_transaction :  0.16374668528258154\n",
      "ratio_to_median_purchase_price :  0.4289958373416976\n",
      "repeat_retailer :  0.0029934697631149045\n",
      "used_chip :  0.03047251715157873\n",
      "used_pin_number :  0.039057094003859816\n",
      "online_order :  0.07906076183444742\n",
      "\n"
     ]
    },
    {
     "data": {
      "image/png": "[encoded data removed]",
      "text/plain": [
       "<Figure size 432x288 with 1 Axes>"
      ]
     },
     "metadata": {
      "needs_background": "light"
     },
     "output_type": "display_data"
    }
   ],
   "source": [
    "model_func(CustomNormalizer.standardize(x_train), CustomNormalizer.standardize(x_test))"
   ]
  }
 ],
 "metadata": {
  "interpreter": {
   "hash": "a36d92f3dd677437279d03e09b099d7c06c265f407aa929808ef7a5c20718074"
  },
  "kernelspec": {
   "display_name": "Python 3.7.6rc1 64-bit",
   "language": "python",
   "name": "python3"
  },
  "language_info": {
   "codemirror_mode": {
    "name": "ipython",
    "version": 3
   },
   "file_extension": ".py",
   "mimetype": "text/x-python",
   "name": "python",
   "nbconvert_exporter": "python",
   "pygments_lexer": "ipython3",
   "version": "3.7.6rc1"
  }
 },
 "nbformat": 4,
 "nbformat_minor": 1
}
